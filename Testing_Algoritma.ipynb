{
  "nbformat": 4,
  "nbformat_minor": 0,
  "metadata": {
    "colab": {
      "provenance": [],
      "authorship_tag": "ABX9TyNiSUnbCWKS659jl0YZ+GuW",
      "include_colab_link": true
    },
    "kernelspec": {
      "name": "python3",
      "display_name": "Python 3"
    },
    "language_info": {
      "name": "python"
    }
  },
  "cells": [
    {
      "cell_type": "markdown",
      "metadata": {
        "id": "view-in-github",
        "colab_type": "text"
      },
      "source": [
        "<a href=\"https://colab.research.google.com/github/marekonazara-ctrl/Algoritma_dan_Pemrograman/blob/main/Testing_Algoritma.ipynb\" target=\"_parent\"><img src=\"https://colab.research.google.com/assets/colab-badge.svg\" alt=\"Open In Colab\"/></a>"
      ]
    },
    {
      "cell_type": "code",
      "execution_count": 26,
      "metadata": {
        "colab": {
          "base_uri": "https://localhost:8080/"
        },
        "id": "x2asDa5209Sz",
        "outputId": "16ad4f55-14b1-43ac-fef4-62a4e4a2e8d3"
      },
      "outputs": [
        {
          "output_type": "stream",
          "name": "stdout",
          "text": [
            "This program will show days in month\n",
            "-------------------------------------\n",
            "\n",
            "Enter month in (1-12): 2\n",
            "Enter years(e.g., 2010):2016\n",
            "There are 29 days in the month\n",
            "\n"
          ]
        }
      ],
      "source": [
        "#Introduction\n",
        "print(\"This program will show days in month\")\n",
        "print('-------------------------------------\\n')\n",
        "#Add flag to the input\n",
        "valid_input = True\n",
        "\n",
        "#input the month\n",
        "month = int(input(\"Enter month in (1-12): \"))\n",
        "\n",
        "#conditions\n",
        "if month == 2:\n",
        "\n",
        "  #inputing the years for know the kabisat's years\n",
        "  years = int(input(\"Enter years(e.g., 2010):\"))\n",
        "\n",
        "  #The month that has 28 or 29 days\n",
        "  if (years % 4 == 0) and (not (years % 100 == 0) or (years % 400 == 0)):\n",
        "    num_days = 29\n",
        "  else:\n",
        "    num_days = 28\n",
        "\n",
        "#The month that has 31 days\n",
        "elif month in (1,3,5,7,8,10,12):\n",
        "  num_days = 31\n",
        "\n",
        "#The month that has 30 days\n",
        "elif month in (4,6,9,11):\n",
        "  num_days = 30\n",
        "else:\n",
        "  print(\"Invalid month\")\n",
        "  valid_input = False\n",
        "if valid_input:\n",
        "  print(f\"There are {num_days} days in the month\\n\")"
      ]
    },
    {
      "cell_type": "code",
      "source": [
        "id = 0\n",
        "sum = 0\n",
        "print('Before', id, sum)\n",
        "for value in [9, 41, 12, 3, 74, 15]:\n",
        "  id = id + 1\n",
        "  sum = sum + value\n",
        "  print(id, sum, value)\n",
        "print('After', id, sum)"
      ],
      "metadata": {
        "colab": {
          "base_uri": "https://localhost:8080/"
        },
        "id": "KnHh7LCv8zJv",
        "outputId": "5b3857ee-d6e4-4819-d375-815bfd256f96"
      },
      "execution_count": 12,
      "outputs": [
        {
          "output_type": "stream",
          "name": "stdout",
          "text": [
            "Before 0 0\n",
            "1 9 9\n",
            "2 50 41\n",
            "3 62 12\n",
            "4 65 3\n",
            "5 139 74\n",
            "6 154 15\n",
            "After 6 154\n"
          ]
        }
      ]
    },
    {
      "cell_type": "code",
      "source": [
        "found = False\n",
        "print(\"Before\", found)\n",
        "for value in [9, 41, 12, 74, 15, 20, 3, 21]:\n",
        "  if value == 3:\n",
        "    found = True\n",
        "    break\n",
        "  print(found, value)\n",
        "print(\"After\", found)"
      ],
      "metadata": {
        "colab": {
          "base_uri": "https://localhost:8080/"
        },
        "id": "bONq1S1x-gtL",
        "outputId": "4d008859-6b4f-4d64-8a30-62256f0d41c7"
      },
      "execution_count": 20,
      "outputs": [
        {
          "output_type": "stream",
          "name": "stdout",
          "text": [
            "Before False\n",
            "False 9\n",
            "False 41\n",
            "False 12\n",
            "False 74\n",
            "False 15\n",
            "False 20\n",
            "After True\n"
          ]
        }
      ]
    },
    {
      "cell_type": "markdown",
      "source": [
        "# **GAME SEDERHANA**"
      ],
      "metadata": {
        "id": "d1g9-HIVIS-u"
      }
    },
    {
      "cell_type": "code",
      "source": [
        "import random\n",
        "\n",
        "print(\"The purpose of this excercise is to enter a number of coin values\\nthat add up to a displayed target value\\n\")\n",
        "print(\"Enter coins values as 1-penny, 5 nickel, 10-dime and 25-quarter.\")\n",
        "print(\"Hit return after the last entered coin value.\")\n",
        "print(\"----------------------------------------------------------------\")\n",
        "print(\"Enter coins that add up to 63 cents, one per line.\\n\")\n",
        "\n",
        "terminate = False\n",
        "empty_str = ''\n",
        "\n",
        "while not terminate:\n",
        "  amount = random.randint(1,99)\n",
        "  print('Enter coins that add up to', amount, 'cents, one per line.\\n')\n",
        "  game_over = False\n",
        "  total = 0\n",
        "\n",
        "  while not game_over:\n",
        "    valid_entry = False\n",
        "\n",
        "    while not valid_entry:\n",
        "      if total == 0:\n",
        "        entry = input('Enter First coin: ')\n",
        "      else:\n",
        "        entry = input('Enter next coin: ')\n",
        "\n",
        "      if entry in (empty_str, '1', '5', '10', '25'):\n",
        "        valid_entry = True\n",
        "      else:\n",
        "        print('invalid entry')\n",
        "    if entry == empty_str:\n",
        "      if total == amount:\n",
        "        print('Correct!')\n",
        "      else:\n",
        "        print('Sorry - you only entered', total, 'cents.')\n",
        "      game_over = True\n",
        "    else:\n",
        "      total = total + int(entry)\n",
        "      if total > amount:\n",
        "        print('Sorry - total amount exceeds', amount, 'cents.')\n",
        "        game_over = True\n",
        "    if game_over:\n",
        "      entry = input('\\nTry again (y/n)?: ')\n",
        "      if entry == 'n':\n",
        "        terminate = True\n",
        "print('Thanks for playing ... Goodbye')"
      ],
      "metadata": {
        "colab": {
          "base_uri": "https://localhost:8080/"
        },
        "id": "tnwpfa-ADqpS",
        "outputId": "cb5c9422-01d9-4b54-a013-c887edc4828d"
      },
      "execution_count": 43,
      "outputs": [
        {
          "output_type": "stream",
          "name": "stdout",
          "text": [
            "The purpose of this excercise is to enter a number of coin values\n",
            "that add up to a displayed target value\n",
            "\n",
            "Enter coins values as 1-penny, 5 nickel, 10-dime and 25-quarter.\n",
            "Hit return after the last entered coin value.\n",
            "----------------------------------------------------------------\n",
            "Enter coins that add up to 63 cents, one per line.\n",
            "\n",
            "Enter coins that add up to 70 cents, one per line.\n",
            "\n",
            "Enter First coin: 25\n",
            "Enter next coin: 25\n",
            "Enter next coin: 10\n",
            "Enter next coin: 10\n",
            "Enter next coin: \n",
            "Correct!\n",
            "\n",
            "Try again (y/n)?: y\n",
            "Enter coins that add up to 65 cents, one per line.\n",
            "\n",
            "Enter First coin: 10\n",
            "Enter next coin: 10\n",
            "Enter next coin: 10\n",
            "Enter next coin: 10\n",
            "Enter next coin: 20\n",
            "invalid entry\n",
            "Enter next coin: \n",
            "Sorry - you only entered 40 cents.\n",
            "\n",
            "Try again (y/n)?: n\n",
            "Thanks for playing ... Goodbye\n"
          ]
        }
      ]
    },
    {
      "cell_type": "code",
      "source": [
        "print('This program will show your price after discount')\n",
        "print('------------------------------------------------\\n')\n",
        "\n",
        "#variabel\n",
        "\n",
        "Susu = 17000\n",
        "indomie = 2500\n",
        "\n",
        "total_harga = int(input('Total harga belanjaan: Rp'))\n",
        "\n",
        "if total_harga >= 100000 :\n",
        "  discount = total_harga - (total_harga*0.2)\n",
        "  print(f\"Harga setelah diskon adalah : Rp{discount}\")\n",
        "else:\n",
        "  print(total_harga)"
      ],
      "metadata": {
        "colab": {
          "base_uri": "https://localhost:8080/"
        },
        "id": "uYGM-CtsKjE8",
        "outputId": "b9172d60-eb32-47fd-fdfe-c131f3ca414f"
      },
      "execution_count": 42,
      "outputs": [
        {
          "output_type": "stream",
          "name": "stdout",
          "text": [
            "This program will show your price after discount\n",
            "------------------------------------------------\n",
            "\n",
            "Total harga belanjaan: Rp2000000\n",
            "Harga setelah diskon adalah : Rp1600000.0\n"
          ]
        }
      ]
    },
    {
      "cell_type": "code",
      "source": [
        "def input_barang():\n",
        "  barang1 = input('Masukkan nama barang1: '),\n",
        "  barang2 = input('Masukkan nama barang2: '),\n",
        "  barang3 = input('Masukkan nama barang3: '),\n",
        "  barang4 = input('Masukkan nama barang4: ')\n",
        "\n",
        "def list_barang():\n",
        "  susu = 17000,\n",
        "  mainan = 50000,\n",
        "  kacang = 20000,\n",
        "  iphone = 13000000,\n",
        "  laptop_gaming = 20000000\n",
        "\n",
        "if input_barang == list_barang:\n",
        "  print(list_barang)"
      ],
      "metadata": {
        "id": "45uKbdxvM8Gw"
      },
      "execution_count": 47,
      "outputs": []
    },
    {
      "cell_type": "code",
      "metadata": {
        "colab": {
          "base_uri": "https://localhost:8080/"
        },
        "id": "6129f78c",
        "outputId": "819a42dc-f724-408d-f29c-0facee1169d9"
      },
      "source": [
        "def input_barang():\n",
        "  barang1 = input('Masukkan nama barang1: ')\n",
        "  barang2 = input('Masukkan nama barang2: ')\n",
        "  barang3 = input('Masukkan nama barang3: ')\n",
        "  barang4 = input('Masukkan nama barang4: ')\n",
        "  return [barang1, barang2, barang3, barang4]\n",
        "\n",
        "def list_barang():\n",
        "  item_prices = {\n",
        "      'susu': 17000,\n",
        "      'mainan': 50000,\n",
        "      'kacang': 20000,\n",
        "      'iphone': 13000000,\n",
        "      'laptop_gaming': 20000000\n",
        "  }\n",
        "  return item_prices\n",
        "\n",
        "# Call the functions and store their return values\n",
        "input_items = input_barang()\n",
        "item_prices_dict = list_barang()\n",
        "\n",
        "total_price = 0\n",
        "for item in input_items:\n",
        "  if item in item_prices_dict:\n",
        "    total_price += item_prices_dict[item]\n",
        "    print(f\"Added {item}: Rp{item_prices_dict[item]}\")\n",
        "  else:\n",
        "    print(f\"Item '{item}' not found in the price list.\")\n",
        "\n",
        "tax = total_price * 0.10\n",
        "total_price_with_tax = total_price + tax\n",
        "\n",
        "print(\"\\n--- CALCULATION ---\")\n",
        "print(f\"Subtotal: Rp{total_price}\")\n",
        "print(f\"Tax (10%): Rp{tax}\")\n",
        "print(f\"Total price with tax: Rp{total_price_with_tax}\")"
      ],
      "execution_count": 50,
      "outputs": [
        {
          "output_type": "stream",
          "name": "stdout",
          "text": [
            "Masukkan nama barang1: susu\n",
            "Masukkan nama barang2: kacang\n",
            "Masukkan nama barang3: laptop_gaming\n",
            "Masukkan nama barang4: iphone\n",
            "Added susu: Rp17000\n",
            "Added kacang: Rp20000\n",
            "Added laptop_gaming: Rp20000000\n",
            "Added iphone: Rp13000000\n",
            "\n",
            "--- Calculation ---\n",
            "Subtotal: Rp33037000\n",
            "Tax (10%): Rp3303700.0\n",
            "Total price with tax: Rp36340700.0\n"
          ]
        }
      ]
    }
  ]
}