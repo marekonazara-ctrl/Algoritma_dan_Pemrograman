{
  "nbformat": 4,
  "nbformat_minor": 0,
  "metadata": {
    "colab": {
      "provenance": [],
      "authorship_tag": "ABX9TyNDUYVHtY0dcdIMqdr7t68N",
      "include_colab_link": true
    },
    "kernelspec": {
      "name": "python3",
      "display_name": "Python 3"
    },
    "language_info": {
      "name": "python"
    }
  },
  "cells": [
    {
      "cell_type": "markdown",
      "metadata": {
        "id": "view-in-github",
        "colab_type": "text"
      },
      "source": [
        "<a href=\"https://colab.research.google.com/github/marekonazara-ctrl/Algoritma_dan_Pemrograman/blob/main/Tugas_Pengganti_Kelas_Algoritma_Mareko_F_Nazara.ipynb\" target=\"_parent\"><img src=\"https://colab.research.google.com/assets/colab-badge.svg\" alt=\"Open In Colab\"/></a>"
      ]
    },
    {
      "cell_type": "markdown",
      "source": [
        "# **Tugas Pengganti Kelas Algoritma - Mareko F. Nazara**"
      ],
      "metadata": {
        "id": "YwPUoQml8Hzn"
      }
    },
    {
      "cell_type": "code",
      "execution_count": 6,
      "metadata": {
        "colab": {
          "base_uri": "https://localhost:8080/"
        },
        "id": "L666k6pGnZUv",
        "outputId": "cfe8b34b-2f99-41db-caf0-4ac7bc7d1c1c"
      },
      "outputs": [
        {
          "output_type": "stream",
          "name": "stdout",
          "text": [
            "Nama Depan : Mareko\n",
            "Nama Belakang : Nazara\n",
            "Nama Lengkap/Tercetak : Mareko Nazara\n"
          ]
        }
      ],
      "source": [
        "#Pengerjaan tugas No. 1\n",
        "\n",
        "nama_depan = input(\"Nama Depan : \")\n",
        "nama_belakang = input(\"Nama Belakang : \")\n",
        "tercetak = \"Nama Lengkap/Tercetak : \" + nama_depan + \" \" + nama_belakang\n",
        "print(tercetak)"
      ]
    },
    {
      "cell_type": "code",
      "source": [
        "#Pengerjaan tugas No. 2\n",
        "\n",
        "angka = input(\"Masukkan Angka : \")\n",
        "for i in range (10, 1000) :\n",
        "  if i <= int(angka):\n",
        "    print(angka + \" \" + \"termasuk bilangan dalam range\")\n",
        "    break\n",
        "  else :\n",
        "    print(angka + \" \" + \"tidak termasuk bilangan dalam range\")\n",
        "    break"
      ],
      "metadata": {
        "colab": {
          "base_uri": "https://localhost:8080/"
        },
        "id": "isSeuf6Tq77w",
        "outputId": "3f2442ec-f4c5-44dc-d38e-12bbcf6e22d8"
      },
      "execution_count": 26,
      "outputs": [
        {
          "output_type": "stream",
          "name": "stdout",
          "text": [
            "Masukkan Angka : 500\n",
            "500 termasuk bilangan dalam range\n"
          ]
        }
      ]
    },
    {
      "cell_type": "code",
      "source": [
        "#Pengerjaan tugas No. 3\n",
        "angka1 = int(input(\"Masukkan Angka Pertama : \"))\n",
        "angka2 = int(input(\"Masukkan Angka Kedua : \"))\n",
        "angka3 = int(input(\"Masukkan Angka Ketiga : \"))\n",
        "\n",
        "jumlah = angka1 + angka2 + angka3\n",
        "\n",
        "if angka1 == angka2 == angka3 :\n",
        "  hasil = 5 * jumlah\n",
        "else :\n",
        "  hasil = jumlah\n",
        "\n",
        "print(\"Hasilnya adalah\", hasil)"
      ],
      "metadata": {
        "colab": {
          "base_uri": "https://localhost:8080/"
        },
        "id": "b7WJUE54t352",
        "outputId": "08cfc389-744e-4daa-df92-2621fe602106"
      },
      "execution_count": 31,
      "outputs": [
        {
          "output_type": "stream",
          "name": "stdout",
          "text": [
            "Masukkan Angka Pertama : 5\n",
            "Masukkan Angka Kedua : 5\n",
            "Masukkan Angka Ketiga : 5\n",
            "Hasilnya adalah 75\n"
          ]
        }
      ]
    },
    {
      "cell_type": "code",
      "source": [
        "#Pengerjaan tugas No.4\n",
        "\n",
        "huruf = input(\"Masukkan Huruf : \").lower()\n",
        "vokal = ['a', 'i', 'u', 'e', 'o']\n",
        "if huruf in vokal :\n",
        "  print(f\"Huruf '{huruf}' merupakan huruf vokal\")\n",
        "else :\n",
        "  print(f\"Huruf '{huruf}' merupakan huruf konsonan\")"
      ],
      "metadata": {
        "colab": {
          "base_uri": "https://localhost:8080/"
        },
        "id": "_3AtNEO5xloq",
        "outputId": "94ae6a67-216b-4d1a-e323-cd76a16bb5fb"
      },
      "execution_count": 35,
      "outputs": [
        {
          "output_type": "stream",
          "name": "stdout",
          "text": [
            "Masukkan Huruf : b\n",
            "Huruf 'b' merupakan huruf konsonan\n"
          ]
        }
      ]
    },
    {
      "cell_type": "code",
      "source": [
        "#Pengerjaaan No. 5\n",
        "import math\n",
        "\n",
        "x1 = float(input(\"Masukkan Angka x1 : \"))\n",
        "y1 = float(input(\"Masukkan Angka y1 : \"))\n",
        "x2 = float(input(\"Masukkan Angka x2 : \"))\n",
        "y2 = float(input(\"Masukkan Angka y2 : \"))\n",
        "\n",
        "D = math.dist((x1, y1), (x2, y2))\n",
        "print(f\"Jawaban yang benar adalah = {D}\")"
      ],
      "metadata": {
        "colab": {
          "base_uri": "https://localhost:8080/"
        },
        "id": "dGzmvgMVzQnl",
        "outputId": "10ef0940-d98c-42bc-b061-1d8aa10113ab"
      },
      "execution_count": 45,
      "outputs": [
        {
          "output_type": "stream",
          "name": "stdout",
          "text": [
            "Masukkan Angka x1 : 10\n",
            "Masukkan Angka y1 : 20\n",
            "Masukkan Angka x2 : 40\n",
            "Masukkan Angka y2 : 50\n",
            "Jawaban yang benar adalah = 42.42640687119285\n"
          ]
        }
      ]
    },
    {
      "cell_type": "code",
      "source": [
        "#Pengerjaan No. 6\n",
        "\n",
        "berat_badan = float(input(\"Masukkan berat badan kamu (kg): \"))\n",
        "tinggi_badan = float(input(\"Masukkan tinggi kamu (m)\"))\n",
        "BMI = berat_badan / (tinggi_badan ** 2)\n",
        "\n",
        "if BMI < 17 :\n",
        "  print(\"Kamu Kekurusan / Kekurangan berat badan tingkat berat\")\n",
        "elif BMI < 18.5 :\n",
        "  print(\"Kamu masih kekurusan tapi mendingan / Kekurangan berat badan tingkat rendah\")\n",
        "elif BMI <= 25 :\n",
        "  print(\"Kamu sudah di tingkat normal pertahankan terus agar kesehatan mu termaintain\")\n",
        "elif BMI <= 27 :\n",
        "  print(\"Kamu kelebihan berat badan tapi masih tingkat ringan semoga sehat-sehat aja ya!\")\n",
        "else :\n",
        "  print(\"Waduh kamu kayaknya udh obesitas banget nih, yuk, gym yuk, makan healthy food yuk!!!\")\n",
        "\n",
        "print(f\"BMI kamu adalah {BMI}\")"
      ],
      "metadata": {
        "colab": {
          "base_uri": "https://localhost:8080/"
        },
        "id": "vA4SAZpj2w1r",
        "outputId": "a48df51b-81b8-42ce-c5ad-f8d47d1603b9"
      },
      "execution_count": 54,
      "outputs": [
        {
          "output_type": "stream",
          "name": "stdout",
          "text": [
            "Masukkan berat badan kamu (kg): 85\n",
            "Masukkan tinggi kamu (m)1.80\n",
            "Kamu kelebihan berat badan tapi masih tingkat ringan semoga sehat-sehat aja ya!\n",
            "BMI kamu adalah 26.234567901234566\n"
          ]
        }
      ]
    },
    {
      "cell_type": "code",
      "source": [
        "#Pengerjaan No. 7\n",
        "\n",
        "kalimat = input(\"Masukkan contoh kalimat yang anda mau periksa : \")\n",
        "\n",
        "huruf_kecil = False\n",
        "\n",
        "for char in kalimat:\n",
        "  if char.islower():\n",
        "    huruf_kecil = True\n",
        "    break\n",
        "\n",
        "if huruf_kecil :\n",
        "  print(\"Kalimat ini mengandung huruf kecil\")\n",
        "else:\n",
        "  print(\"Tidak ada sama sekali huruf kecil\")"
      ],
      "metadata": {
        "colab": {
          "base_uri": "https://localhost:8080/"
        },
        "id": "ixmUPn125-Cy",
        "outputId": "b60b51dc-9829-474e-d40b-2443359c012d"
      },
      "execution_count": 55,
      "outputs": [
        {
          "output_type": "stream",
          "name": "stdout",
          "text": [
            "Masukkan contoh kalimat yang anda mau periksa : BUDI MELAKUKAN TINDAK KEKERASAN, JADI ADIT MEMBELA DIRINYA\n",
            "Tidak ada sama sekali huruf kecil\n"
          ]
        }
      ]
    }
  ]
}